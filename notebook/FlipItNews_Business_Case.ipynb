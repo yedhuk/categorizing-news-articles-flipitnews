{
  "nbformat": 4,
  "nbformat_minor": 0,
  "metadata": {
    "colab": {
      "provenance": [],
      "authorship_tag": "ABX9TyNa77+2PkdnFtDnVSrQGLY8",
      "include_colab_link": true
    },
    "kernelspec": {
      "name": "python3",
      "display_name": "Python 3"
    },
    "language_info": {
      "name": "python"
    }
  },
  "cells": [
    {
      "cell_type": "markdown",
      "metadata": {
        "id": "view-in-github",
        "colab_type": "text"
      },
      "source": [
        "<a href=\"https://colab.research.google.com/github/yedhuk/categorizing-news-articles-flipitnews/blob/main/FlipItNews_Business_Case.ipynb\" target=\"_parent\"><img src=\"https://colab.research.google.com/assets/colab-badge.svg\" alt=\"Open In Colab\"/></a>"
      ]
    },
    {
      "cell_type": "markdown",
      "source": [
        "#FlipItNews: Natural Language Processing Business Case\n"
      ],
      "metadata": {
        "id": "DZKbqcKAWkSM"
      }
    },
    {
      "cell_type": "markdown",
      "source": [
        "Goal:\n",
        "\n",
        "\n",
        "---\n",
        "\n",
        "\n",
        "The goal here is to help FlipItNews to\n",
        "intelligently categorize content into domains like politics, technology, sports,\n",
        "business, and entertainment by analyzing its internal database of news article.\n",
        "\n",
        "Benefit:\n",
        "\n",
        "\n",
        "---\n",
        "\n",
        "\n",
        "The insights from this analysis can significantly improve content discovery and\n",
        "user engagement, driving financial literacy and investment awareness among\n",
        "millennials and first-time investors.\n",
        "\n"
      ],
      "metadata": {
        "id": "AxW9o-HAW3uL"
      }
    },
    {
      "cell_type": "code",
      "execution_count": null,
      "metadata": {
        "colab": {
          "base_uri": "https://localhost:8080/"
        },
        "id": "dV76_hG1WekT",
        "outputId": "4b8d24cb-c05a-4d5e-c6c9-2ce6e5f6744c"
      },
      "outputs": [
        {
          "output_type": "stream",
          "name": "stdout",
          "text": [
            "Downloading...\n",
            "From: https://drive.google.com/uc?id=17cj01qd7xyY8RmUhH0pMoYf6z53dEQWW\n",
            "To: /content/flipitnews-data.csv\n",
            "\r  0% 0.00/5.06M [00:00<?, ?B/s]\r100% 5.06M/5.06M [00:00<00:00, 84.7MB/s]\n"
          ]
        }
      ],
      "source": [
        "!gdown 17cj01qd7xyY8RmUhH0pMoYf6z53dEQWW"
      ]
    },
    {
      "cell_type": "code",
      "source": [
        "import numpy as np\n",
        "import pandas as pd"
      ],
      "metadata": {
        "id": "nRssEDnZZMjH"
      },
      "execution_count": null,
      "outputs": []
    }
  ]
}